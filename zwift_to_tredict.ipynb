{
 "cells": [
  {
   "cell_type": "code",
   "execution_count": null,
   "id": "1787035e",
   "metadata": {},
   "outputs": [],
   "source": [
    "from tredictpy import tredict\n",
    "import time\n",
    "import os\n",
    "import json\n",
    "import psutil\n",
    "import sys"
   ]
  },
  {
   "cell_type": "code",
   "execution_count": null,
   "id": "1e7c3aaf",
   "metadata": {},
   "outputs": [],
   "source": [
    "json_db = \"./zwift_to_tredict.json\"\n",
    "in_progress = \"inProgressActivity.fit\"\n",
    "activity_dir = os.path.expanduser(\"~/Zwift/Activities/\")\n",
    "upload_past_activities = False"
   ]
  },
  {
   "cell_type": "code",
   "execution_count": null,
   "id": "893acda0",
   "metadata": {},
   "outputs": [],
   "source": [
    "client = tredict.TredictPy()"
   ]
  },
  {
   "cell_type": "code",
   "execution_count": null,
   "id": "1703689f",
   "metadata": {},
   "outputs": [],
   "source": [
    "# First run, need to authorise and get an access token\n",
    "# Or was run before but did not complete authorisation\n",
    "if not client.is_authorised():\n",
    "    client.request_auth_code()\n",
    "    client.request_user_access_token()"
   ]
  },
  {
   "cell_type": "code",
   "execution_count": null,
   "id": "d4983ff2",
   "metadata": {},
   "outputs": [],
   "source": [
    "# An access token was obtained before but it has expired\n",
    "# can refresh using the refresh token\n",
    "if not client.is_user_access_token_valid():\n",
    "    client.request_user_access_token(refresh=True)"
   ]
  },
  {
   "cell_type": "code",
   "execution_count": null,
   "id": "e94e6bd2",
   "metadata": {},
   "outputs": [],
   "source": [
    "if not os.path.exists(json_db):\n",
    "\n",
    "    # Get a list of present activities\n",
    "    activities = [\n",
    "        dict(\n",
    "            [\n",
    "                (\"activity\", activity),\n",
    "                (\"uploaded\", False),\n",
    "                (\"already_present\", True)\n",
    "            ]\n",
    "        ) for activity in os.listdir(activity_dir) if activity.endswith(\".fit\") and activity != in_progress]\n",
    "\n",
    "    # Upload past activities if set\n",
    "    if upload_past_activities:\n",
    "        for activity in activities:\n",
    "            client.activity_upload(f\"{activity_dir}{activity['activity']}\")\n",
    "            activity[\"uploaded\"] = True\n",
    "\n",
    "    last_checked = int(time.time())\n",
    "\n",
    "    # Write to file to keep track\n",
    "    with open(json_db, \"wt\") as f:\n",
    "        f.write(\n",
    "            json.dumps(\n",
    "                {\n",
    "                    \"last_checked\": last_checked,\n",
    "                    \"activities\": activities,\n",
    "                },\n",
    "                indent=4\n",
    "            )\n",
    "        )\n"
   ]
  },
  {
   "cell_type": "code",
   "execution_count": null,
   "id": "052ec075",
   "metadata": {},
   "outputs": [],
   "source": [
    "with open(json_db, \"rt\") as f:\n",
    "    activities = json.loads(f.read())"
   ]
  },
  {
   "cell_type": "code",
   "execution_count": null,
   "id": "ca6e580f",
   "metadata": {},
   "outputs": [],
   "source": [
    "print(\"Launching Zwift...\")\n",
    "zwift = psutil.subprocess.run(\"zwift\")"
   ]
  },
  {
   "cell_type": "code",
   "execution_count": null,
   "id": "d0fbe351",
   "metadata": {},
   "outputs": [],
   "source": [
    "if zwift.returncode != 0:\n",
    "    print(\"Zwift failed to launch!\")\n",
    "    sys.exit()"
   ]
  },
  {
   "cell_type": "code",
   "execution_count": null,
   "id": "5d80f033",
   "metadata": {},
   "outputs": [],
   "source": [
    "while True:\n",
    "    if not [p.info[\"name\"] for p in psutil.process_iter([\"name\"]) if \"zwift\" in p.info[\"name\"].lower()]:\n",
    "        print(\"Zwift exited!\")\n",
    "        break\n",
    "    else:\n",
    "        time.sleep(10)"
   ]
  },
  {
   "cell_type": "code",
   "execution_count": null,
   "id": "3764cf87",
   "metadata": {},
   "outputs": [],
   "source": [
    "# Check for new activities against old activities\n",
    "new_activities = [\n",
    "    activity for activity in os.listdir(activity_dir)\n",
    "    if activity not in [a[\"activity\"] for a in activities[\"activities\"]] and\n",
    "    activity != in_progress\n",
    "]"
   ]
  },
  {
   "cell_type": "code",
   "execution_count": null,
   "id": "33f8a25c",
   "metadata": {},
   "outputs": [],
   "source": [
    "for activity in new_activities:\n",
    "\n",
    "    # Upload new activities\n",
    "    client.activity_upload(f\"{activity_dir}{activity}\")\n",
    "\n",
    "    # Add to the record\n",
    "    activities[\"activities\"].append(\n",
    "        {\n",
    "            \"activity\": activity,\n",
    "            \"uploaded\": True,\n",
    "            \"already_present\": False,\n",
    "        }\n",
    "    )"
   ]
  },
  {
   "cell_type": "code",
   "execution_count": null,
   "id": "2315e6fc",
   "metadata": {},
   "outputs": [],
   "source": [
    "activities[\"last_checked\"] = int(time.time())"
   ]
  },
  {
   "cell_type": "code",
   "execution_count": null,
   "id": "b57f6c8c",
   "metadata": {},
   "outputs": [],
   "source": [
    "with open(json_db, \"wt\") as f:\n",
    "    f.write(\n",
    "        json.dumps(activities, indent=4)\n",
    "    )"
   ]
  }
 ],
 "metadata": {
  "kernelspec": {
   "display_name": ".venv",
   "language": "python",
   "name": "python3"
  },
  "language_info": {
   "codemirror_mode": {
    "name": "ipython",
    "version": 3
   },
   "file_extension": ".py",
   "mimetype": "text/x-python",
   "name": "python",
   "nbconvert_exporter": "python",
   "pygments_lexer": "ipython3",
   "version": "3.12.3"
  }
 },
 "nbformat": 4,
 "nbformat_minor": 5
}
